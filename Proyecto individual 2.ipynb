{
 "cells": [
  {
   "cell_type": "code",
   "execution_count": 1,
   "metadata": {},
   "outputs": [],
   "source": [
    "import pandas as pd\n",
    "import numpy as np\n",
    "import matplotlib.pyplot as plt\n",
    "import seaborn as sns\n",
    "import missingno as msno\n",
    "from sklearn.preprocessing\timport OrdinalEncoder\n",
    "from sklearn.model_selection import train_test_split\n",
    "from sklearn.preprocessing import StandardScaler\n",
    "from sklearn.linear_model import LogisticRegression\n",
    "from sklearn.metrics import accuracy_score, confusion_matrix, classification_report, recall_score, fbeta_score\n",
    "# Importamos todas las librerias que usaremos para trabajar."
   ]
  },
  {
   "cell_type": "code",
   "execution_count": 2,
   "metadata": {},
   "outputs": [],
   "source": [
    "df_trains = pd.read_csv(r'hospitalizaciones_train.csv')\n",
    "# Cargamos los DataFrame"
   ]
  },
  {
   "cell_type": "code",
   "execution_count": 3,
   "metadata": {},
   "outputs": [],
   "source": [
    "trains = df_trains.copy()\n",
    "# Realizamos una copia a df_trains para realizar cambios sin modificar la informacion original."
   ]
  },
  {
   "cell_type": "code",
   "execution_count": 4,
   "metadata": {},
   "outputs": [],
   "source": [
    "train = trains.rename(columns={trains.columns[0]: 'Habitaciones Disponibles',\n",
    "                                            trains.columns[1]: 'Area Atencion',\n",
    "                                            trains.columns[2]: 'Codigo Habitacion',\n",
    "                                            trains.columns[3]: 'Nombre Dr',\n",
    "                                            trains.columns[4]: 'Personal Disponible',\n",
    "                                            trains.columns[5]: 'Id Paciente',\n",
    "                                            trains.columns[6]: 'Edad',\n",
    "                                            trains.columns[7]: 'Genero',\n",
    "                                            trains.columns[8]: 'Tipo Ingreso',\n",
    "                                            trains.columns[9]: 'Gravedad Estado',\n",
    "                                            trains.columns[10]: 'Condicion Salud',\n",
    "                                            trains.columns[11]: 'Visitas',\n",
    "                                            trains.columns[12]: 'Seguro Salud',\n",
    "                                            trains.columns[13]: 'Deposito Administrativo',\n",
    "                                            trains.columns[14]: 'Dias Estadia'})\n",
    "# Renombro las columnas para trabajar con mayor comodidad."
   ]
  },
  {
   "cell_type": "code",
   "execution_count": 5,
   "metadata": {},
   "outputs": [
    {
     "data": {
      "text/html": [
       "<div>\n",
       "<style scoped>\n",
       "    .dataframe tbody tr th:only-of-type {\n",
       "        vertical-align: middle;\n",
       "    }\n",
       "\n",
       "    .dataframe tbody tr th {\n",
       "        vertical-align: top;\n",
       "    }\n",
       "\n",
       "    .dataframe thead th {\n",
       "        text-align: right;\n",
       "    }\n",
       "</style>\n",
       "<table border=\"1\" class=\"dataframe\">\n",
       "  <thead>\n",
       "    <tr style=\"text-align: right;\">\n",
       "      <th></th>\n",
       "      <th>Habitaciones Disponibles</th>\n",
       "      <th>Area Atencion</th>\n",
       "      <th>Codigo Habitacion</th>\n",
       "      <th>Nombre Dr</th>\n",
       "      <th>Personal Disponible</th>\n",
       "      <th>Id Paciente</th>\n",
       "      <th>Edad</th>\n",
       "      <th>Genero</th>\n",
       "      <th>Tipo Ingreso</th>\n",
       "      <th>Gravedad Estado</th>\n",
       "      <th>Condicion Salud</th>\n",
       "      <th>Visitas</th>\n",
       "      <th>Seguro Salud</th>\n",
       "      <th>Deposito Administrativo</th>\n",
       "      <th>Dias Estadia</th>\n",
       "    </tr>\n",
       "  </thead>\n",
       "  <tbody>\n",
       "    <tr>\n",
       "      <th>0</th>\n",
       "      <td>4</td>\n",
       "      <td>gynecology</td>\n",
       "      <td>D</td>\n",
       "      <td>Dr Sophia</td>\n",
       "      <td>0</td>\n",
       "      <td>33070</td>\n",
       "      <td>41-50</td>\n",
       "      <td>Female</td>\n",
       "      <td>Trauma</td>\n",
       "      <td>Extreme</td>\n",
       "      <td>Diabetes</td>\n",
       "      <td>4</td>\n",
       "      <td>Yes</td>\n",
       "      <td>2966.408696</td>\n",
       "      <td>8</td>\n",
       "    </tr>\n",
       "    <tr>\n",
       "      <th>1</th>\n",
       "      <td>4</td>\n",
       "      <td>gynecology</td>\n",
       "      <td>B</td>\n",
       "      <td>Dr Sophia</td>\n",
       "      <td>2</td>\n",
       "      <td>34808</td>\n",
       "      <td>31-40</td>\n",
       "      <td>Female</td>\n",
       "      <td>Trauma</td>\n",
       "      <td>Minor</td>\n",
       "      <td>Heart disease</td>\n",
       "      <td>2</td>\n",
       "      <td>No</td>\n",
       "      <td>3554.835677</td>\n",
       "      <td>9</td>\n",
       "    </tr>\n",
       "    <tr>\n",
       "      <th>2</th>\n",
       "      <td>2</td>\n",
       "      <td>gynecology</td>\n",
       "      <td>B</td>\n",
       "      <td>Dr Sophia</td>\n",
       "      <td>8</td>\n",
       "      <td>44577</td>\n",
       "      <td>21-30</td>\n",
       "      <td>Female</td>\n",
       "      <td>Trauma</td>\n",
       "      <td>Extreme</td>\n",
       "      <td>Diabetes</td>\n",
       "      <td>2</td>\n",
       "      <td>Yes</td>\n",
       "      <td>5624.733654</td>\n",
       "      <td>7</td>\n",
       "    </tr>\n",
       "    <tr>\n",
       "      <th>3</th>\n",
       "      <td>4</td>\n",
       "      <td>gynecology</td>\n",
       "      <td>D</td>\n",
       "      <td>Dr Olivia</td>\n",
       "      <td>7</td>\n",
       "      <td>3695</td>\n",
       "      <td>31-40</td>\n",
       "      <td>Female</td>\n",
       "      <td>Urgent</td>\n",
       "      <td>Moderate</td>\n",
       "      <td>None</td>\n",
       "      <td>4</td>\n",
       "      <td>No</td>\n",
       "      <td>4814.149231</td>\n",
       "      <td>8</td>\n",
       "    </tr>\n",
       "    <tr>\n",
       "      <th>4</th>\n",
       "      <td>2</td>\n",
       "      <td>anesthesia</td>\n",
       "      <td>E</td>\n",
       "      <td>Dr Mark</td>\n",
       "      <td>10</td>\n",
       "      <td>108956</td>\n",
       "      <td>71-80</td>\n",
       "      <td>Male</td>\n",
       "      <td>Trauma</td>\n",
       "      <td>Moderate</td>\n",
       "      <td>Diabetes</td>\n",
       "      <td>2</td>\n",
       "      <td>No</td>\n",
       "      <td>5169.269637</td>\n",
       "      <td>34</td>\n",
       "    </tr>\n",
       "  </tbody>\n",
       "</table>\n",
       "</div>"
      ],
      "text/plain": [
       "   Habitaciones Disponibles Area Atencion Codigo Habitacion  Nombre Dr  \\\n",
       "0                         4    gynecology                 D  Dr Sophia   \n",
       "1                         4    gynecology                 B  Dr Sophia   \n",
       "2                         2    gynecology                 B  Dr Sophia   \n",
       "3                         4    gynecology                 D  Dr Olivia   \n",
       "4                         2    anesthesia                 E    Dr Mark   \n",
       "\n",
       "   Personal Disponible  Id Paciente   Edad  Genero Tipo Ingreso  \\\n",
       "0                    0        33070  41-50  Female       Trauma   \n",
       "1                    2        34808  31-40  Female       Trauma   \n",
       "2                    8        44577  21-30  Female       Trauma   \n",
       "3                    7         3695  31-40  Female       Urgent   \n",
       "4                   10       108956  71-80    Male       Trauma   \n",
       "\n",
       "  Gravedad Estado Condicion Salud  Visitas Seguro Salud  \\\n",
       "0         Extreme        Diabetes        4          Yes   \n",
       "1           Minor   Heart disease        2           No   \n",
       "2         Extreme        Diabetes        2          Yes   \n",
       "3        Moderate            None        4           No   \n",
       "4        Moderate        Diabetes        2           No   \n",
       "\n",
       "   Deposito Administrativo  Dias Estadia  \n",
       "0              2966.408696             8  \n",
       "1              3554.835677             9  \n",
       "2              5624.733654             7  \n",
       "3              4814.149231             8  \n",
       "4              5169.269637            34  "
      ]
     },
     "execution_count": 5,
     "metadata": {},
     "output_type": "execute_result"
    }
   ],
   "source": [
    "train.head()\n",
    "# Reviso el DF"
   ]
  },
  {
   "cell_type": "code",
   "execution_count": 6,
   "metadata": {},
   "outputs": [
    {
     "name": "stdout",
     "output_type": "stream",
     "text": [
      "<class 'pandas.core.frame.DataFrame'>\n",
      "RangeIndex: 410000 entries, 0 to 409999\n",
      "Data columns (total 15 columns):\n",
      " #   Column                    Non-Null Count   Dtype  \n",
      "---  ------                    --------------   -----  \n",
      " 0   Habitaciones Disponibles  410000 non-null  int64  \n",
      " 1   Area Atencion             410000 non-null  object \n",
      " 2   Codigo Habitacion         410000 non-null  object \n",
      " 3   Nombre Dr                 410000 non-null  object \n",
      " 4   Personal Disponible       410000 non-null  int64  \n",
      " 5   Id Paciente               410000 non-null  int64  \n",
      " 6   Edad                      410000 non-null  object \n",
      " 7   Genero                    410000 non-null  object \n",
      " 8   Tipo Ingreso              410000 non-null  object \n",
      " 9   Gravedad Estado           410000 non-null  object \n",
      " 10  Condicion Salud           410000 non-null  object \n",
      " 11  Visitas                   410000 non-null  int64  \n",
      " 12  Seguro Salud              410000 non-null  object \n",
      " 13  Deposito Administrativo   410000 non-null  float64\n",
      " 14  Dias Estadia              410000 non-null  int64  \n",
      "dtypes: float64(1), int64(5), object(9)\n",
      "memory usage: 46.9+ MB\n"
     ]
    }
   ],
   "source": [
    "train.info()\n",
    "# Inicio el proceso EDA."
   ]
  },
  {
   "cell_type": "code",
   "execution_count": 7,
   "metadata": {},
   "outputs": [
    {
     "data": {
      "text/html": [
       "<div>\n",
       "<style scoped>\n",
       "    .dataframe tbody tr th:only-of-type {\n",
       "        vertical-align: middle;\n",
       "    }\n",
       "\n",
       "    .dataframe tbody tr th {\n",
       "        vertical-align: top;\n",
       "    }\n",
       "\n",
       "    .dataframe thead th {\n",
       "        text-align: right;\n",
       "    }\n",
       "</style>\n",
       "<table border=\"1\" class=\"dataframe\">\n",
       "  <thead>\n",
       "    <tr style=\"text-align: right;\">\n",
       "      <th></th>\n",
       "      <th>Habitaciones Disponibles</th>\n",
       "      <th>Area Atencion</th>\n",
       "      <th>Codigo Habitacion</th>\n",
       "      <th>Nombre Dr</th>\n",
       "      <th>Personal Disponible</th>\n",
       "      <th>Id Paciente</th>\n",
       "      <th>Edad</th>\n",
       "      <th>Genero</th>\n",
       "      <th>Tipo Ingreso</th>\n",
       "      <th>Gravedad Estado</th>\n",
       "      <th>Condicion Salud</th>\n",
       "      <th>Visitas</th>\n",
       "      <th>Seguro Salud</th>\n",
       "      <th>Deposito Administrativo</th>\n",
       "      <th>Dias Estadia</th>\n",
       "    </tr>\n",
       "  </thead>\n",
       "  <tbody>\n",
       "  </tbody>\n",
       "</table>\n",
       "</div>"
      ],
      "text/plain": [
       "Empty DataFrame\n",
       "Columns: [Habitaciones Disponibles, Area Atencion, Codigo Habitacion, Nombre Dr, Personal Disponible, Id Paciente, Edad, Genero, Tipo Ingreso, Gravedad Estado, Condicion Salud, Visitas, Seguro Salud, Deposito Administrativo, Dias Estadia]\n",
       "Index: []"
      ]
     },
     "execution_count": 7,
     "metadata": {},
     "output_type": "execute_result"
    }
   ],
   "source": [
    "train[train.duplicated()]\n",
    "# Busco valores duplicados"
   ]
  },
  {
   "cell_type": "code",
   "execution_count": 8,
   "metadata": {},
   "outputs": [
    {
     "name": "stdout",
     "output_type": "stream",
     "text": [
      "La cantidad de registros duplicados es:  0\n"
     ]
    }
   ],
   "source": [
    "print(\"La cantidad de registros duplicados es: \", train.duplicated().sum())\n",
    "# Comprobamos la Cantidad de registros duplicados."
   ]
  },
  {
   "cell_type": "code",
   "execution_count": 9,
   "metadata": {},
   "outputs": [
    {
     "data": {
      "text/plain": [
       "Habitaciones Disponibles    0\n",
       "Area Atencion               0\n",
       "Codigo Habitacion           0\n",
       "Nombre Dr                   0\n",
       "Personal Disponible         0\n",
       "Id Paciente                 0\n",
       "Edad                        0\n",
       "Genero                      0\n",
       "Tipo Ingreso                0\n",
       "Gravedad Estado             0\n",
       "Condicion Salud             0\n",
       "Visitas                     0\n",
       "Seguro Salud                0\n",
       "Deposito Administrativo     0\n",
       "Dias Estadia                0\n",
       "dtype: int64"
      ]
     },
     "execution_count": 9,
     "metadata": {},
     "output_type": "execute_result"
    }
   ],
   "source": [
    "train.isna().sum()                  # Chequeamos los valores Nulos."
   ]
  },
  {
   "cell_type": "code",
   "execution_count": 10,
   "metadata": {},
   "outputs": [],
   "source": [
    "train = train.drop(['Habitaciones Disponibles','Codigo Habitacion','Id Paciente','Visitas'], axis = 1)\n",
    "# Elimino estas columnas porque de momento no es necesaria o es carente de informacion adicional."
   ]
  },
  {
   "cell_type": "code",
   "execution_count": 11,
   "metadata": {},
   "outputs": [],
   "source": [
    "train[\"Genero\"] = train [\"Genero\"] == 'Female'\n",
    "# Remplazo los generos por datos booleanos para poder convertirlos en datos de tipo \"int\". Los valores \"Female\" = True. \"Male\" = False"
   ]
  },
  {
   "cell_type": "code",
   "execution_count": 12,
   "metadata": {},
   "outputs": [
    {
     "data": {
      "text/html": [
       "<div>\n",
       "<style scoped>\n",
       "    .dataframe tbody tr th:only-of-type {\n",
       "        vertical-align: middle;\n",
       "    }\n",
       "\n",
       "    .dataframe tbody tr th {\n",
       "        vertical-align: top;\n",
       "    }\n",
       "\n",
       "    .dataframe thead th {\n",
       "        text-align: right;\n",
       "    }\n",
       "</style>\n",
       "<table border=\"1\" class=\"dataframe\">\n",
       "  <thead>\n",
       "    <tr style=\"text-align: right;\">\n",
       "      <th></th>\n",
       "      <th>Area Atencion</th>\n",
       "      <th>Nombre Dr</th>\n",
       "      <th>Personal Disponible</th>\n",
       "      <th>Edad</th>\n",
       "      <th>Genero</th>\n",
       "      <th>Tipo Ingreso</th>\n",
       "      <th>Gravedad Estado</th>\n",
       "      <th>Condicion Salud</th>\n",
       "      <th>Seguro Salud</th>\n",
       "      <th>Deposito Administrativo</th>\n",
       "      <th>Dias Estadia</th>\n",
       "    </tr>\n",
       "  </thead>\n",
       "  <tbody>\n",
       "    <tr>\n",
       "      <th>0</th>\n",
       "      <td>gynecology</td>\n",
       "      <td>Dr Sophia</td>\n",
       "      <td>0</td>\n",
       "      <td>41-50</td>\n",
       "      <td>1</td>\n",
       "      <td>Trauma</td>\n",
       "      <td>Extreme</td>\n",
       "      <td>Diabetes</td>\n",
       "      <td>Yes</td>\n",
       "      <td>2966.408696</td>\n",
       "      <td>8</td>\n",
       "    </tr>\n",
       "    <tr>\n",
       "      <th>1</th>\n",
       "      <td>gynecology</td>\n",
       "      <td>Dr Sophia</td>\n",
       "      <td>2</td>\n",
       "      <td>31-40</td>\n",
       "      <td>1</td>\n",
       "      <td>Trauma</td>\n",
       "      <td>Minor</td>\n",
       "      <td>Heart disease</td>\n",
       "      <td>No</td>\n",
       "      <td>3554.835677</td>\n",
       "      <td>9</td>\n",
       "    </tr>\n",
       "    <tr>\n",
       "      <th>2</th>\n",
       "      <td>gynecology</td>\n",
       "      <td>Dr Sophia</td>\n",
       "      <td>8</td>\n",
       "      <td>21-30</td>\n",
       "      <td>1</td>\n",
       "      <td>Trauma</td>\n",
       "      <td>Extreme</td>\n",
       "      <td>Diabetes</td>\n",
       "      <td>Yes</td>\n",
       "      <td>5624.733654</td>\n",
       "      <td>7</td>\n",
       "    </tr>\n",
       "    <tr>\n",
       "      <th>3</th>\n",
       "      <td>gynecology</td>\n",
       "      <td>Dr Olivia</td>\n",
       "      <td>7</td>\n",
       "      <td>31-40</td>\n",
       "      <td>1</td>\n",
       "      <td>Urgent</td>\n",
       "      <td>Moderate</td>\n",
       "      <td>None</td>\n",
       "      <td>No</td>\n",
       "      <td>4814.149231</td>\n",
       "      <td>8</td>\n",
       "    </tr>\n",
       "    <tr>\n",
       "      <th>4</th>\n",
       "      <td>anesthesia</td>\n",
       "      <td>Dr Mark</td>\n",
       "      <td>10</td>\n",
       "      <td>71-80</td>\n",
       "      <td>0</td>\n",
       "      <td>Trauma</td>\n",
       "      <td>Moderate</td>\n",
       "      <td>Diabetes</td>\n",
       "      <td>No</td>\n",
       "      <td>5169.269637</td>\n",
       "      <td>34</td>\n",
       "    </tr>\n",
       "  </tbody>\n",
       "</table>\n",
       "</div>"
      ],
      "text/plain": [
       "  Area Atencion  Nombre Dr  Personal Disponible   Edad  Genero Tipo Ingreso  \\\n",
       "0    gynecology  Dr Sophia                    0  41-50       1       Trauma   \n",
       "1    gynecology  Dr Sophia                    2  31-40       1       Trauma   \n",
       "2    gynecology  Dr Sophia                    8  21-30       1       Trauma   \n",
       "3    gynecology  Dr Olivia                    7  31-40       1       Urgent   \n",
       "4    anesthesia    Dr Mark                   10  71-80       0       Trauma   \n",
       "\n",
       "  Gravedad Estado Condicion Salud Seguro Salud  Deposito Administrativo  \\\n",
       "0         Extreme        Diabetes          Yes              2966.408696   \n",
       "1           Minor   Heart disease           No              3554.835677   \n",
       "2         Extreme        Diabetes          Yes              5624.733654   \n",
       "3        Moderate            None           No              4814.149231   \n",
       "4        Moderate        Diabetes           No              5169.269637   \n",
       "\n",
       "   Dias Estadia  \n",
       "0             8  \n",
       "1             9  \n",
       "2             7  \n",
       "3             8  \n",
       "4            34  "
      ]
     },
     "execution_count": 12,
     "metadata": {},
     "output_type": "execute_result"
    }
   ],
   "source": [
    "train[\"Genero\"] = train[\"Genero\"].replace([True,False],[1,0])\n",
    "# Ahora remplazo los valores True (Female) = 1. y False (Male) = 0\n",
    "train.head()"
   ]
  },
  {
   "cell_type": "code",
   "execution_count": 13,
   "metadata": {},
   "outputs": [],
   "source": [
    "train[\"Target\"]=train[\"Dias Estadia\"]>8\n",
    "# Los valores mayores a 8 serán True y los menores False.\n",
    "train[\"Target\"]=train[\"Target\"].replace([True,False],[1,0])\n",
    "# Se reemplaza los valores True (>8) = \"1\" y False = \"0\""
   ]
  },
  {
   "cell_type": "code",
   "execution_count": 14,
   "metadata": {},
   "outputs": [
    {
     "data": {
      "text/plain": [
       "1    255416\n",
       "0    154584\n",
       "Name: Target, dtype: int64"
      ]
     },
     "execution_count": 14,
     "metadata": {},
     "output_type": "execute_result"
    }
   ],
   "source": [
    "train[\"Target\"].value_counts()\n",
    "# Esto indica que es un dataset desbalanceado, que los registros son:\n",
    "# 255.416 = \"Estadia Larga\" y 154.584 = \"Estadia Corta\"."
   ]
  },
  {
   "cell_type": "code",
   "execution_count": 15,
   "metadata": {},
   "outputs": [
    {
     "data": {
      "text/plain": [
       "Index(['Area Atencion', 'Nombre Dr', 'Personal Disponible', 'Edad', 'Genero',\n",
       "       'Tipo Ingreso', 'Gravedad Estado', 'Condicion Salud', 'Seguro Salud',\n",
       "       'Deposito Administrativo', 'Dias Estadia', 'Target'],\n",
       "      dtype='object')"
      ]
     },
     "execution_count": 15,
     "metadata": {},
     "output_type": "execute_result"
    }
   ],
   "source": [
    "enc = OrdinalEncoder()\n",
    "train.columns\n",
    "# Le asigno al encoder una variable para poder utilizarlo. Chequeo las columnas para generar el encoding."
   ]
  },
  {
   "cell_type": "code",
   "execution_count": 16,
   "metadata": {},
   "outputs": [
    {
     "data": {
      "text/html": [
       "<style>#sk-container-id-1 {color: black;background-color: white;}#sk-container-id-1 pre{padding: 0;}#sk-container-id-1 div.sk-toggleable {background-color: white;}#sk-container-id-1 label.sk-toggleable__label {cursor: pointer;display: block;width: 100%;margin-bottom: 0;padding: 0.3em;box-sizing: border-box;text-align: center;}#sk-container-id-1 label.sk-toggleable__label-arrow:before {content: \"▸\";float: left;margin-right: 0.25em;color: #696969;}#sk-container-id-1 label.sk-toggleable__label-arrow:hover:before {color: black;}#sk-container-id-1 div.sk-estimator:hover label.sk-toggleable__label-arrow:before {color: black;}#sk-container-id-1 div.sk-toggleable__content {max-height: 0;max-width: 0;overflow: hidden;text-align: left;background-color: #f0f8ff;}#sk-container-id-1 div.sk-toggleable__content pre {margin: 0.2em;color: black;border-radius: 0.25em;background-color: #f0f8ff;}#sk-container-id-1 input.sk-toggleable__control:checked~div.sk-toggleable__content {max-height: 200px;max-width: 100%;overflow: auto;}#sk-container-id-1 input.sk-toggleable__control:checked~label.sk-toggleable__label-arrow:before {content: \"▾\";}#sk-container-id-1 div.sk-estimator input.sk-toggleable__control:checked~label.sk-toggleable__label {background-color: #d4ebff;}#sk-container-id-1 div.sk-label input.sk-toggleable__control:checked~label.sk-toggleable__label {background-color: #d4ebff;}#sk-container-id-1 input.sk-hidden--visually {border: 0;clip: rect(1px 1px 1px 1px);clip: rect(1px, 1px, 1px, 1px);height: 1px;margin: -1px;overflow: hidden;padding: 0;position: absolute;width: 1px;}#sk-container-id-1 div.sk-estimator {font-family: monospace;background-color: #f0f8ff;border: 1px dotted black;border-radius: 0.25em;box-sizing: border-box;margin-bottom: 0.5em;}#sk-container-id-1 div.sk-estimator:hover {background-color: #d4ebff;}#sk-container-id-1 div.sk-parallel-item::after {content: \"\";width: 100%;border-bottom: 1px solid gray;flex-grow: 1;}#sk-container-id-1 div.sk-label:hover label.sk-toggleable__label {background-color: #d4ebff;}#sk-container-id-1 div.sk-serial::before {content: \"\";position: absolute;border-left: 1px solid gray;box-sizing: border-box;top: 0;bottom: 0;left: 50%;z-index: 0;}#sk-container-id-1 div.sk-serial {display: flex;flex-direction: column;align-items: center;background-color: white;padding-right: 0.2em;padding-left: 0.2em;position: relative;}#sk-container-id-1 div.sk-item {position: relative;z-index: 1;}#sk-container-id-1 div.sk-parallel {display: flex;align-items: stretch;justify-content: center;background-color: white;position: relative;}#sk-container-id-1 div.sk-item::before, #sk-container-id-1 div.sk-parallel-item::before {content: \"\";position: absolute;border-left: 1px solid gray;box-sizing: border-box;top: 0;bottom: 0;left: 50%;z-index: -1;}#sk-container-id-1 div.sk-parallel-item {display: flex;flex-direction: column;z-index: 1;position: relative;background-color: white;}#sk-container-id-1 div.sk-parallel-item:first-child::after {align-self: flex-end;width: 50%;}#sk-container-id-1 div.sk-parallel-item:last-child::after {align-self: flex-start;width: 50%;}#sk-container-id-1 div.sk-parallel-item:only-child::after {width: 0;}#sk-container-id-1 div.sk-dashed-wrapped {border: 1px dashed gray;margin: 0 0.4em 0.5em 0.4em;box-sizing: border-box;padding-bottom: 0.4em;background-color: white;}#sk-container-id-1 div.sk-label label {font-family: monospace;font-weight: bold;display: inline-block;line-height: 1.2em;}#sk-container-id-1 div.sk-label-container {text-align: center;}#sk-container-id-1 div.sk-container {/* jupyter's `normalize.less` sets `[hidden] { display: none; }` but bootstrap.min.css set `[hidden] { display: none !important; }` so we also need the `!important` here to be able to override the default hidden behavior on the sphinx rendered scikit-learn.org. See: https://github.com/scikit-learn/scikit-learn/issues/21755 */display: inline-block !important;position: relative;}#sk-container-id-1 div.sk-text-repr-fallback {display: none;}</style><div id=\"sk-container-id-1\" class=\"sk-top-container\"><div class=\"sk-text-repr-fallback\"><pre>OrdinalEncoder()</pre><b>In a Jupyter environment, please rerun this cell to show the HTML representation or trust the notebook. <br />On GitHub, the HTML representation is unable to render, please try loading this page with nbviewer.org.</b></div><div class=\"sk-container\" hidden><div class=\"sk-item\"><div class=\"sk-estimator sk-toggleable\"><input class=\"sk-toggleable__control sk-hidden--visually\" id=\"sk-estimator-id-1\" type=\"checkbox\" checked><label for=\"sk-estimator-id-1\" class=\"sk-toggleable__label sk-toggleable__label-arrow\">OrdinalEncoder</label><div class=\"sk-toggleable__content\"><pre>OrdinalEncoder()</pre></div></div></div></div></div>"
      ],
      "text/plain": [
       "OrdinalEncoder()"
      ]
     },
     "execution_count": 16,
     "metadata": {},
     "output_type": "execute_result"
    }
   ],
   "source": [
    "enc.fit(train[['Area Atencion', 'Nombre Dr', 'Personal Disponible', 'Edad',\n",
    "       'Tipo Ingreso', 'Gravedad Estado', 'Condicion Salud', 'Seguro Salud',\n",
    "       'Deposito Administrativo', 'Dias Estadia', 'Target']])\n",
    "# Realizamos el encoding, esto quiere decir que los datos de tipo \"object\" les generamos un corigo numerico de tipo (int)\n",
    "# para que el modelo de prediccion pueda trabajar con la informacion"
   ]
  },
  {
   "cell_type": "code",
   "execution_count": 17,
   "metadata": {},
   "outputs": [],
   "source": [
    "train[['Area Atencion', 'Nombre Dr', 'Personal Disponible', 'Edad',\n",
    "       'Tipo Ingreso', 'Gravedad Estado', 'Condicion Salud', 'Seguro Salud',\n",
    "       'Deposito Administrativo', 'Dias Estadia', 'Target']] = enc.transform(train[['Area Atencion', 'Nombre Dr', 'Personal Disponible', 'Edad',\n",
    "       'Tipo Ingreso', 'Gravedad Estado', 'Condicion Salud', 'Seguro Salud',\n",
    "       'Deposito Administrativo', 'Dias Estadia', 'Target']])"
   ]
  },
  {
   "cell_type": "code",
   "execution_count": 18,
   "metadata": {},
   "outputs": [],
   "source": [
    "df_tt = pd.concat([train.iloc[:,:12], df_trains.select_dtypes(np.number)], axis = 1)\n",
    "# Concateno la tabla de valores de codigo numerico junto a la original."
   ]
  },
  {
   "cell_type": "code",
   "execution_count": 19,
   "metadata": {},
   "outputs": [
    {
     "data": {
      "text/html": [
       "<div>\n",
       "<style scoped>\n",
       "    .dataframe tbody tr th:only-of-type {\n",
       "        vertical-align: middle;\n",
       "    }\n",
       "\n",
       "    .dataframe tbody tr th {\n",
       "        vertical-align: top;\n",
       "    }\n",
       "\n",
       "    .dataframe thead th {\n",
       "        text-align: right;\n",
       "    }\n",
       "</style>\n",
       "<table border=\"1\" class=\"dataframe\">\n",
       "  <thead>\n",
       "    <tr style=\"text-align: right;\">\n",
       "      <th></th>\n",
       "      <th>Area Atencion</th>\n",
       "      <th>Nombre Dr</th>\n",
       "      <th>Personal Disponible</th>\n",
       "      <th>Edad</th>\n",
       "      <th>Genero</th>\n",
       "      <th>Tipo Ingreso</th>\n",
       "      <th>Gravedad Estado</th>\n",
       "      <th>Condicion Salud</th>\n",
       "      <th>Seguro Salud</th>\n",
       "      <th>Deposito Administrativo</th>\n",
       "      <th>Dias Estadia</th>\n",
       "      <th>Target</th>\n",
       "      <th>Available Extra Rooms in Hospital</th>\n",
       "      <th>staff_available</th>\n",
       "      <th>patientid</th>\n",
       "      <th>Visitors with Patient</th>\n",
       "      <th>Admission_Deposit</th>\n",
       "      <th>Stay (in days)</th>\n",
       "    </tr>\n",
       "  </thead>\n",
       "  <tbody>\n",
       "    <tr>\n",
       "      <th>0</th>\n",
       "      <td>2.0</td>\n",
       "      <td>8.0</td>\n",
       "      <td>0.0</td>\n",
       "      <td>4.0</td>\n",
       "      <td>1</td>\n",
       "      <td>1.0</td>\n",
       "      <td>0.0</td>\n",
       "      <td>1.0</td>\n",
       "      <td>1.0</td>\n",
       "      <td>11165.0</td>\n",
       "      <td>5.0</td>\n",
       "      <td>0.0</td>\n",
       "      <td>4</td>\n",
       "      <td>0</td>\n",
       "      <td>33070</td>\n",
       "      <td>4</td>\n",
       "      <td>2966.408696</td>\n",
       "      <td>8</td>\n",
       "    </tr>\n",
       "    <tr>\n",
       "      <th>1</th>\n",
       "      <td>2.0</td>\n",
       "      <td>8.0</td>\n",
       "      <td>2.0</td>\n",
       "      <td>3.0</td>\n",
       "      <td>1</td>\n",
       "      <td>1.0</td>\n",
       "      <td>1.0</td>\n",
       "      <td>2.0</td>\n",
       "      <td>0.0</td>\n",
       "      <td>36653.0</td>\n",
       "      <td>6.0</td>\n",
       "      <td>1.0</td>\n",
       "      <td>4</td>\n",
       "      <td>2</td>\n",
       "      <td>34808</td>\n",
       "      <td>2</td>\n",
       "      <td>3554.835677</td>\n",
       "      <td>9</td>\n",
       "    </tr>\n",
       "    <tr>\n",
       "      <th>2</th>\n",
       "      <td>2.0</td>\n",
       "      <td>8.0</td>\n",
       "      <td>8.0</td>\n",
       "      <td>2.0</td>\n",
       "      <td>1</td>\n",
       "      <td>1.0</td>\n",
       "      <td>0.0</td>\n",
       "      <td>1.0</td>\n",
       "      <td>1.0</td>\n",
       "      <td>350018.0</td>\n",
       "      <td>4.0</td>\n",
       "      <td>0.0</td>\n",
       "      <td>2</td>\n",
       "      <td>8</td>\n",
       "      <td>44577</td>\n",
       "      <td>2</td>\n",
       "      <td>5624.733654</td>\n",
       "      <td>7</td>\n",
       "    </tr>\n",
       "    <tr>\n",
       "      <th>3</th>\n",
       "      <td>2.0</td>\n",
       "      <td>4.0</td>\n",
       "      <td>7.0</td>\n",
       "      <td>3.0</td>\n",
       "      <td>1</td>\n",
       "      <td>2.0</td>\n",
       "      <td>2.0</td>\n",
       "      <td>4.0</td>\n",
       "      <td>0.0</td>\n",
       "      <td>255384.0</td>\n",
       "      <td>5.0</td>\n",
       "      <td>0.0</td>\n",
       "      <td>4</td>\n",
       "      <td>7</td>\n",
       "      <td>3695</td>\n",
       "      <td>4</td>\n",
       "      <td>4814.149231</td>\n",
       "      <td>8</td>\n",
       "    </tr>\n",
       "    <tr>\n",
       "      <th>4</th>\n",
       "      <td>1.0</td>\n",
       "      <td>2.0</td>\n",
       "      <td>10.0</td>\n",
       "      <td>7.0</td>\n",
       "      <td>0</td>\n",
       "      <td>1.0</td>\n",
       "      <td>2.0</td>\n",
       "      <td>1.0</td>\n",
       "      <td>0.0</td>\n",
       "      <td>316256.0</td>\n",
       "      <td>31.0</td>\n",
       "      <td>1.0</td>\n",
       "      <td>2</td>\n",
       "      <td>10</td>\n",
       "      <td>108956</td>\n",
       "      <td>2</td>\n",
       "      <td>5169.269637</td>\n",
       "      <td>34</td>\n",
       "    </tr>\n",
       "  </tbody>\n",
       "</table>\n",
       "</div>"
      ],
      "text/plain": [
       "   Area Atencion  Nombre Dr  Personal Disponible  Edad  Genero  Tipo Ingreso  \\\n",
       "0            2.0        8.0                  0.0   4.0       1           1.0   \n",
       "1            2.0        8.0                  2.0   3.0       1           1.0   \n",
       "2            2.0        8.0                  8.0   2.0       1           1.0   \n",
       "3            2.0        4.0                  7.0   3.0       1           2.0   \n",
       "4            1.0        2.0                 10.0   7.0       0           1.0   \n",
       "\n",
       "   Gravedad Estado  Condicion Salud  Seguro Salud  Deposito Administrativo  \\\n",
       "0              0.0              1.0           1.0                  11165.0   \n",
       "1              1.0              2.0           0.0                  36653.0   \n",
       "2              0.0              1.0           1.0                 350018.0   \n",
       "3              2.0              4.0           0.0                 255384.0   \n",
       "4              2.0              1.0           0.0                 316256.0   \n",
       "\n",
       "   Dias Estadia  Target  Available Extra Rooms in Hospital  staff_available  \\\n",
       "0           5.0     0.0                                  4                0   \n",
       "1           6.0     1.0                                  4                2   \n",
       "2           4.0     0.0                                  2                8   \n",
       "3           5.0     0.0                                  4                7   \n",
       "4          31.0     1.0                                  2               10   \n",
       "\n",
       "   patientid  Visitors with Patient  Admission_Deposit  Stay (in days)  \n",
       "0      33070                      4        2966.408696               8  \n",
       "1      34808                      2        3554.835677               9  \n",
       "2      44577                      2        5624.733654               7  \n",
       "3       3695                      4        4814.149231               8  \n",
       "4     108956                      2        5169.269637              34  "
      ]
     },
     "execution_count": 19,
     "metadata": {},
     "output_type": "execute_result"
    }
   ],
   "source": [
    "df_tt.head()"
   ]
  },
  {
   "cell_type": "code",
   "execution_count": 20,
   "metadata": {},
   "outputs": [],
   "source": [
    "X= df_tt[['Edad','Genero','Tipo Ingreso','Gravedad Estado']]\n",
    "y= df_tt['Target']\n",
    "# Selecciones las variables que quiero usar para pronosticar.\n",
    "\n",
    "#Con las variables \"['Edad','Genero','Tipo Ingreso','Gravedad Estado']\" obtuve un resultado de: \n",
    "# Accuracy del modelo de Reg. Logistica :    0.558\n",
    "#Recall del modelo de Reg. Logistica :      0.471"
   ]
  },
  {
   "cell_type": "code",
   "execution_count": 21,
   "metadata": {},
   "outputs": [],
   "source": [
    "X_train, X_test, y_train, y_test = train_test_split (X,y, test_size = 0.3, random_state = 123)\n",
    "#Dividir los datos previamente seleccinados para realizar el entrenamiento y testeo futuro. "
   ]
  },
  {
   "cell_type": "code",
   "execution_count": 22,
   "metadata": {},
   "outputs": [],
   "source": [
    "lr = LogisticRegression(penalty='l2', \n",
    "                        class_weight='balanced'\n",
    "                       )\n",
    "lr.fit(X_train, y_train)\n",
    "\n",
    "y_train_pred = lr.predict(X_train)\n",
    "\n",
    "# Modelos deregresion logistica (** No tenemos idea que ons los parametros, cualqueir cosa los borramos :p )"
   ]
  },
  {
   "cell_type": "code",
   "execution_count": 23,
   "metadata": {},
   "outputs": [
    {
     "data": {
      "text/plain": [
       "Text(50.722222222222214, 0.5, 'Reales')"
      ]
     },
     "execution_count": 23,
     "metadata": {},
     "output_type": "execute_result"
    },
    {
     "data": {
      "image/png": "[encoded data removed]",
      "text/plain": [
       "<Figure size 640x480 with 2 Axes>"
      ]
     },
     "metadata": {},
     "output_type": "display_data"
    }
   ],
   "source": [
    "model_name = 'Reg. Logistica'\n",
    "\n",
    "sns.heatmap(confusion_matrix(y_train, y_train_pred), annot=True, cmap='PuBu', fmt='0.0f', linewidths=0.25, \n",
    "           annot_kws={'size':13} )\n",
    "plt.xlabel('Predichos')\n",
    "plt.ylabel('Reales')"
   ]
  },
  {
   "cell_type": "code",
   "execution_count": 24,
   "metadata": {},
   "outputs": [
    {
     "name": "stdout",
     "output_type": "stream",
     "text": [
      "Accuracy del modelo de Reg. Logistica :    0.558\n",
      "Recall del modelo de Reg. Logistica :      0.471\n",
      "Rporte del modelo de Reg. Logistica :   \n",
      "               precision    recall  f1-score   support\n",
      "\n",
      "         0.0       0.45      0.70      0.55    108186\n",
      "         1.0       0.72      0.47      0.57    178814\n",
      "\n",
      "    accuracy                           0.56    287000\n",
      "   macro avg       0.58      0.59      0.56    287000\n",
      "weighted avg       0.62      0.56      0.56    287000\n",
      "\n"
     ]
    }
   ],
   "source": [
    "print('Accuracy del modelo de ' + model_name + ' :   ', accuracy_score(y_train, y_train_pred).round(3))\n",
    "print('Recall del modelo de ' + model_name + ' :     ', recall_score(y_train, y_train_pred).round(3))\n",
    "\n",
    "print('Rporte del modelo de ' + model_name + ' :   \\n', classification_report(y_train, y_train_pred))"
   ]
  },
  {
   "cell_type": "code",
   "execution_count": 25,
   "metadata": {},
   "outputs": [],
   "source": [
    "df_tests = pd.read_csv(r'hospitalizaciones_test.csv')\n",
    "tests = df_tests.copy()"
   ]
  },
  {
   "cell_type": "code",
   "execution_count": 26,
   "metadata": {},
   "outputs": [],
   "source": [
    "test = tests.rename(columns={tests.columns[0]: 'Habitaciones Disponibles',\n",
    "                                            tests.columns[1]: 'Area Atencion',\n",
    "                                            tests.columns[2]: 'Codigo Habitacion',\n",
    "                                            tests.columns[3]: 'Nombre Dr',\n",
    "                                            tests.columns[4]: 'Personal Disponible',\n",
    "                                            tests.columns[5]: 'Id Paciente',\n",
    "                                            tests.columns[6]: 'Edad',\n",
    "                                            tests.columns[7]: 'Genero',\n",
    "                                            tests.columns[8]: 'Tipo Ingreso',\n",
    "                                            tests.columns[9]: 'Gravedad Estado',\n",
    "                                            tests.columns[10]: 'Condicion Salud',\n",
    "                                            tests.columns[11]: 'Visitas',\n",
    "                                            tests.columns[12]: 'Seguro Salud',\n",
    "                                            tests.columns[13]: 'Deposito Administrativo'})"
   ]
  },
  {
   "cell_type": "code",
   "execution_count": 27,
   "metadata": {},
   "outputs": [],
   "source": [
    "test = test.drop(['Habitaciones Disponibles','Codigo Habitacion','Id Paciente','Visitas'], axis = 1)\n",
    "test[\"Genero\"] = test [\"Genero\"] == 'Female'\n",
    "test[\"Genero\"] = test[\"Genero\"].replace([True,False],[1,0])"
   ]
  },
  {
   "cell_type": "code",
   "execution_count": 28,
   "metadata": {},
   "outputs": [
    {
     "data": {
      "text/html": [
       "<style>#sk-container-id-2 {color: black;background-color: white;}#sk-container-id-2 pre{padding: 0;}#sk-container-id-2 div.sk-toggleable {background-color: white;}#sk-container-id-2 label.sk-toggleable__label {cursor: pointer;display: block;width: 100%;margin-bottom: 0;padding: 0.3em;box-sizing: border-box;text-align: center;}#sk-container-id-2 label.sk-toggleable__label-arrow:before {content: \"▸\";float: left;margin-right: 0.25em;color: #696969;}#sk-container-id-2 label.sk-toggleable__label-arrow:hover:before {color: black;}#sk-container-id-2 div.sk-estimator:hover label.sk-toggleable__label-arrow:before {color: black;}#sk-container-id-2 div.sk-toggleable__content {max-height: 0;max-width: 0;overflow: hidden;text-align: left;background-color: #f0f8ff;}#sk-container-id-2 div.sk-toggleable__content pre {margin: 0.2em;color: black;border-radius: 0.25em;background-color: #f0f8ff;}#sk-container-id-2 input.sk-toggleable__control:checked~div.sk-toggleable__content {max-height: 200px;max-width: 100%;overflow: auto;}#sk-container-id-2 input.sk-toggleable__control:checked~label.sk-toggleable__label-arrow:before {content: \"▾\";}#sk-container-id-2 div.sk-estimator input.sk-toggleable__control:checked~label.sk-toggleable__label {background-color: #d4ebff;}#sk-container-id-2 div.sk-label input.sk-toggleable__control:checked~label.sk-toggleable__label {background-color: #d4ebff;}#sk-container-id-2 input.sk-hidden--visually {border: 0;clip: rect(1px 1px 1px 1px);clip: rect(1px, 1px, 1px, 1px);height: 1px;margin: -1px;overflow: hidden;padding: 0;position: absolute;width: 1px;}#sk-container-id-2 div.sk-estimator {font-family: monospace;background-color: #f0f8ff;border: 1px dotted black;border-radius: 0.25em;box-sizing: border-box;margin-bottom: 0.5em;}#sk-container-id-2 div.sk-estimator:hover {background-color: #d4ebff;}#sk-container-id-2 div.sk-parallel-item::after {content: \"\";width: 100%;border-bottom: 1px solid gray;flex-grow: 1;}#sk-container-id-2 div.sk-label:hover label.sk-toggleable__label {background-color: #d4ebff;}#sk-container-id-2 div.sk-serial::before {content: \"\";position: absolute;border-left: 1px solid gray;box-sizing: border-box;top: 0;bottom: 0;left: 50%;z-index: 0;}#sk-container-id-2 div.sk-serial {display: flex;flex-direction: column;align-items: center;background-color: white;padding-right: 0.2em;padding-left: 0.2em;position: relative;}#sk-container-id-2 div.sk-item {position: relative;z-index: 1;}#sk-container-id-2 div.sk-parallel {display: flex;align-items: stretch;justify-content: center;background-color: white;position: relative;}#sk-container-id-2 div.sk-item::before, #sk-container-id-2 div.sk-parallel-item::before {content: \"\";position: absolute;border-left: 1px solid gray;box-sizing: border-box;top: 0;bottom: 0;left: 50%;z-index: -1;}#sk-container-id-2 div.sk-parallel-item {display: flex;flex-direction: column;z-index: 1;position: relative;background-color: white;}#sk-container-id-2 div.sk-parallel-item:first-child::after {align-self: flex-end;width: 50%;}#sk-container-id-2 div.sk-parallel-item:last-child::after {align-self: flex-start;width: 50%;}#sk-container-id-2 div.sk-parallel-item:only-child::after {width: 0;}#sk-container-id-2 div.sk-dashed-wrapped {border: 1px dashed gray;margin: 0 0.4em 0.5em 0.4em;box-sizing: border-box;padding-bottom: 0.4em;background-color: white;}#sk-container-id-2 div.sk-label label {font-family: monospace;font-weight: bold;display: inline-block;line-height: 1.2em;}#sk-container-id-2 div.sk-label-container {text-align: center;}#sk-container-id-2 div.sk-container {/* jupyter's `normalize.less` sets `[hidden] { display: none; }` but bootstrap.min.css set `[hidden] { display: none !important; }` so we also need the `!important` here to be able to override the default hidden behavior on the sphinx rendered scikit-learn.org. See: https://github.com/scikit-learn/scikit-learn/issues/21755 */display: inline-block !important;position: relative;}#sk-container-id-2 div.sk-text-repr-fallback {display: none;}</style><div id=\"sk-container-id-2\" class=\"sk-top-container\"><div class=\"sk-text-repr-fallback\"><pre>OrdinalEncoder()</pre><b>In a Jupyter environment, please rerun this cell to show the HTML representation or trust the notebook. <br />On GitHub, the HTML representation is unable to render, please try loading this page with nbviewer.org.</b></div><div class=\"sk-container\" hidden><div class=\"sk-item\"><div class=\"sk-estimator sk-toggleable\"><input class=\"sk-toggleable__control sk-hidden--visually\" id=\"sk-estimator-id-2\" type=\"checkbox\" checked><label for=\"sk-estimator-id-2\" class=\"sk-toggleable__label sk-toggleable__label-arrow\">OrdinalEncoder</label><div class=\"sk-toggleable__content\"><pre>OrdinalEncoder()</pre></div></div></div></div></div>"
      ],
      "text/plain": [
       "OrdinalEncoder()"
      ]
     },
     "execution_count": 28,
     "metadata": {},
     "output_type": "execute_result"
    }
   ],
   "source": [
    "enc.fit(test[['Area Atencion', 'Nombre Dr', 'Personal Disponible', 'Edad',\n",
    "       'Tipo Ingreso', 'Gravedad Estado', 'Condicion Salud', 'Seguro Salud',\n",
    "       'Deposito Administrativo']])"
   ]
  },
  {
   "cell_type": "code",
   "execution_count": 29,
   "metadata": {},
   "outputs": [],
   "source": [
    "test[['Area Atencion', 'Nombre Dr', 'Personal Disponible', 'Edad',\n",
    "       'Tipo Ingreso', 'Gravedad Estado', 'Condicion Salud', 'Seguro Salud',\n",
    "       'Deposito Administrativo']] = enc.transform(test[['Area Atencion', 'Nombre Dr', 'Personal Disponible', 'Edad',\n",
    "       'Tipo Ingreso', 'Gravedad Estado', 'Condicion Salud', 'Seguro Salud',\n",
    "       'Deposito Administrativo']])"
   ]
  },
  {
   "cell_type": "code",
   "execution_count": 30,
   "metadata": {},
   "outputs": [],
   "source": [
    "df_test = pd.concat([test, df_tests.select_dtypes(np.number)], axis = 1)"
   ]
  },
  {
   "cell_type": "code",
   "execution_count": 31,
   "metadata": {},
   "outputs": [
    {
     "data": {
      "text/html": [
       "<div>\n",
       "<style scoped>\n",
       "    .dataframe tbody tr th:only-of-type {\n",
       "        vertical-align: middle;\n",
       "    }\n",
       "\n",
       "    .dataframe tbody tr th {\n",
       "        vertical-align: top;\n",
       "    }\n",
       "\n",
       "    .dataframe thead th {\n",
       "        text-align: right;\n",
       "    }\n",
       "</style>\n",
       "<table border=\"1\" class=\"dataframe\">\n",
       "  <thead>\n",
       "    <tr style=\"text-align: right;\">\n",
       "      <th></th>\n",
       "      <th>Area Atencion</th>\n",
       "      <th>Nombre Dr</th>\n",
       "      <th>Personal Disponible</th>\n",
       "      <th>Edad</th>\n",
       "      <th>Genero</th>\n",
       "      <th>Tipo Ingreso</th>\n",
       "      <th>Gravedad Estado</th>\n",
       "      <th>Condicion Salud</th>\n",
       "      <th>Seguro Salud</th>\n",
       "      <th>Deposito Administrativo</th>\n",
       "      <th>Available Extra Rooms in Hospital</th>\n",
       "      <th>staff_available</th>\n",
       "      <th>patientid</th>\n",
       "      <th>Visitors with Patient</th>\n",
       "      <th>Admission_Deposit</th>\n",
       "    </tr>\n",
       "  </thead>\n",
       "  <tbody>\n",
       "    <tr>\n",
       "      <th>0</th>\n",
       "      <td>2.0</td>\n",
       "      <td>4.0</td>\n",
       "      <td>10.0</td>\n",
       "      <td>2.0</td>\n",
       "      <td>1</td>\n",
       "      <td>1.0</td>\n",
       "      <td>2.0</td>\n",
       "      <td>5.0</td>\n",
       "      <td>0.0</td>\n",
       "      <td>52469.0</td>\n",
       "      <td>3</td>\n",
       "      <td>10</td>\n",
       "      <td>2858</td>\n",
       "      <td>2</td>\n",
       "      <td>4749.640225</td>\n",
       "    </tr>\n",
       "    <tr>\n",
       "      <th>1</th>\n",
       "      <td>0.0</td>\n",
       "      <td>1.0</td>\n",
       "      <td>4.0</td>\n",
       "      <td>5.0</td>\n",
       "      <td>1</td>\n",
       "      <td>1.0</td>\n",
       "      <td>2.0</td>\n",
       "      <td>0.0</td>\n",
       "      <td>1.0</td>\n",
       "      <td>24227.0</td>\n",
       "      <td>2</td>\n",
       "      <td>4</td>\n",
       "      <td>65657</td>\n",
       "      <td>2</td>\n",
       "      <td>4122.261324</td>\n",
       "    </tr>\n",
       "    <tr>\n",
       "      <th>2</th>\n",
       "      <td>3.0</td>\n",
       "      <td>1.0</td>\n",
       "      <td>7.0</td>\n",
       "      <td>5.0</td>\n",
       "      <td>0</td>\n",
       "      <td>1.0</td>\n",
       "      <td>2.0</td>\n",
       "      <td>4.0</td>\n",
       "      <td>0.0</td>\n",
       "      <td>75017.0</td>\n",
       "      <td>2</td>\n",
       "      <td>7</td>\n",
       "      <td>45598</td>\n",
       "      <td>3</td>\n",
       "      <td>5459.067882</td>\n",
       "    </tr>\n",
       "    <tr>\n",
       "      <th>3</th>\n",
       "      <td>2.0</td>\n",
       "      <td>4.0</td>\n",
       "      <td>1.0</td>\n",
       "      <td>2.0</td>\n",
       "      <td>1</td>\n",
       "      <td>1.0</td>\n",
       "      <td>2.0</td>\n",
       "      <td>4.0</td>\n",
       "      <td>1.0</td>\n",
       "      <td>19861.0</td>\n",
       "      <td>2</td>\n",
       "      <td>1</td>\n",
       "      <td>31132</td>\n",
       "      <td>2</td>\n",
       "      <td>3987.033318</td>\n",
       "    </tr>\n",
       "    <tr>\n",
       "      <th>4</th>\n",
       "      <td>1.0</td>\n",
       "      <td>1.0</td>\n",
       "      <td>7.0</td>\n",
       "      <td>5.0</td>\n",
       "      <td>1</td>\n",
       "      <td>1.0</td>\n",
       "      <td>0.0</td>\n",
       "      <td>1.0</td>\n",
       "      <td>0.0</td>\n",
       "      <td>53798.0</td>\n",
       "      <td>2</td>\n",
       "      <td>7</td>\n",
       "      <td>125021</td>\n",
       "      <td>2</td>\n",
       "      <td>4770.789695</td>\n",
       "    </tr>\n",
       "  </tbody>\n",
       "</table>\n",
       "</div>"
      ],
      "text/plain": [
       "   Area Atencion  Nombre Dr  Personal Disponible  Edad  Genero  Tipo Ingreso  \\\n",
       "0            2.0        4.0                 10.0   2.0       1           1.0   \n",
       "1            0.0        1.0                  4.0   5.0       1           1.0   \n",
       "2            3.0        1.0                  7.0   5.0       0           1.0   \n",
       "3            2.0        4.0                  1.0   2.0       1           1.0   \n",
       "4            1.0        1.0                  7.0   5.0       1           1.0   \n",
       "\n",
       "   Gravedad Estado  Condicion Salud  Seguro Salud  Deposito Administrativo  \\\n",
       "0              2.0              5.0           0.0                  52469.0   \n",
       "1              2.0              0.0           1.0                  24227.0   \n",
       "2              2.0              4.0           0.0                  75017.0   \n",
       "3              2.0              4.0           1.0                  19861.0   \n",
       "4              0.0              1.0           0.0                  53798.0   \n",
       "\n",
       "   Available Extra Rooms in Hospital  staff_available  patientid  \\\n",
       "0                                  3               10       2858   \n",
       "1                                  2                4      65657   \n",
       "2                                  2                7      45598   \n",
       "3                                  2                1      31132   \n",
       "4                                  2                7     125021   \n",
       "\n",
       "   Visitors with Patient  Admission_Deposit  \n",
       "0                      2        4749.640225  \n",
       "1                      2        4122.261324  \n",
       "2                      3        5459.067882  \n",
       "3                      2        3987.033318  \n",
       "4                      2        4770.789695  "
      ]
     },
     "execution_count": 31,
     "metadata": {},
     "output_type": "execute_result"
    }
   ],
   "source": [
    "df_test.head()"
   ]
  },
  {
   "cell_type": "code",
   "execution_count": 32,
   "metadata": {},
   "outputs": [],
   "source": [
    "y_train_pred = lr.predict(df_test[['Edad','Genero','Tipo Ingreso','Gravedad Estado']])\n",
    "prediccion_Lr = y_train_pred\n",
    "resultado = pd.DataFrame(prediccion_Lr)         \n",
    "resultado.set_axis([\"pred\"], axis = 1,inplace = True)\n",
    "resultado.to_csv(\"lulo76.csv\", index = False)"
   ]
  }
 ],
 "metadata": {
  "kernelspec": {
   "display_name": "Python 3",
   "language": "python",
   "name": "python3"
  },
  "language_info": {
   "codemirror_mode": {
    "name": "ipython",
    "version": 3
   },
   "file_extension": ".py",
   "mimetype": "text/x-python",
   "name": "python",
   "nbconvert_exporter": "python",
   "pygments_lexer": "ipython3",
   "version": "3.10.7"
  },
  "orig_nbformat": 4,
  "vscode": {
   "interpreter": {
    "hash": "0f4aad36e1a7834f44c14e84b98527cfbefef55e7a336cfec74130d804d73c8f"
   }
  }
 },
 "nbformat": 4,
 "nbformat_minor": 2
}
